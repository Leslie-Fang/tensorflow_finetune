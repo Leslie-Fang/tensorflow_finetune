{
 "cells": [
  {
   "cell_type": "code",
   "execution_count": 1,
   "metadata": {},
   "outputs": [],
   "source": [
    "# -*- coding: utf-8 -*-\n",
    "import tensorflow as tf\n",
    "from tensorflow.python.platform import gfile\n",
    "from tensorflow.core.framework import graph_pb2\n",
    "import pandas as pd\n",
    "import numpy as np\n",
    "import os\n",
    "from tensorflow.keras.preprocessing import image\n",
    "from tensorflow.python.keras.models import Sequential\n",
    "from tensorflow.python.keras.layers import Dense, Flatten, GlobalAveragePooling2D\n",
    "from tensorflow import keras"
   ]
  },
  {
   "cell_type": "code",
   "execution_count": 2,
   "metadata": {},
   "outputs": [],
   "source": [
    "def preprocess(raw_image):\n",
    "    img = image.load_img(raw_image, target_size=(224, 224))  # match the input of exsiting models\n",
    "    #img = image.img_to_array(img) / 255.0\n",
    "    # 重要，resnet50的输入图像不需要归一到0-1之间\n",
    "    img = image.img_to_array(img)\n",
    "    return img\n",
    "\n",
    "def preprocess2(raw_image):\n",
    "    label = raw_image.split(\"/\")[-1].split(\".\")[0]\n",
    "    if label == \"dog\":\n",
    "        label = [0, 1]\n",
    "    else:\n",
    "        label = [1, 0]\n",
    "    return label\n",
    "\n",
    "def preprocess2_test(raw_image):\n",
    "    id = raw_image.split(\"/\")[-1].split(\".\")[0]\n",
    "    return id\n",
    "\n",
    "def read_train():\n",
    "    res = tf.compat.v1.io.gfile.glob(\"./dataset/train/*.*.jpg\")\n",
    "    np.random.shuffle(res)\n",
    "    images = np.asarray(list(map(preprocess, res)))\n",
    "    labels = np.asarray(list(map(preprocess2, res)))\n",
    "    print(images.shape)\n",
    "    print(labels.shape)\n",
    "    return images, labels\n",
    "\n",
    "def read_test():\n",
    "    res = tf.compat.v1.io.gfile.glob(\"./dataset/test/*.jpg\")\n",
    "    images = np.asarray(list(map(preprocess, res)))\n",
    "    ids = np.asarray(list(map(preprocess2_test, res)))\n",
    "    print(images.shape)\n",
    "    print(ids.shape)\n",
    "    return images, ids"
   ]
  },
  {
   "cell_type": "code",
   "execution_count": 3,
   "metadata": {},
   "outputs": [
    {
     "name": "stdout",
     "output_type": "stream",
     "text": [
      "(25000, 224, 224, 3)\n",
      "(25000, 2)\n",
      "(12500, 224, 224, 3)\n",
      "(12500,)\n"
     ]
    }
   ],
   "source": [
    "# Load the data\n",
    "X_train, y_train = read_train()\n",
    "test_data, ids = read_test()"
   ]
  },
  {
   "cell_type": "code",
   "execution_count": null,
   "metadata": {
    "scrolled": true
   },
   "outputs": [
    {
     "name": "stdout",
     "output_type": "stream",
     "text": [
      "Model: \"sequential\"\n",
      "_________________________________________________________________\n",
      "Layer (type)                 Output Shape              Param #   \n",
      "=================================================================\n",
      "resnet50 (Model)             (None, 2048)              23587712  \n",
      "_________________________________________________________________\n",
      "dense (Dense)                (None, 2)                 4098      \n",
      "=================================================================\n",
      "Total params: 23,591,810\n",
      "Trainable params: 4,098\n",
      "Non-trainable params: 23,587,712\n",
      "_________________________________________________________________\n",
      "Train on 25000 samples\n",
      "Epoch 1/10\n",
      "25000/25000 [==============================] - 310s 12ms/sample - loss: 0.3743 - accuracy: 0.8501\n",
      "Epoch 2/10\n",
      "25000/25000 [==============================] - 322s 13ms/sample - loss: 0.1419 - accuracy: 0.9488\n",
      "Epoch 3/10\n",
      "25000/25000 [==============================] - 342s 14ms/sample - loss: 0.1024 - accuracy: 0.9621\n",
      "Epoch 4/10\n",
      "25000/25000 [==============================] - 329s 13ms/sample - loss: 0.0914 - accuracy: 0.9663\n",
      "Epoch 5/10\n",
      " 4096/25000 [===>..........................] - ETA: 4:47 - loss: 0.0687 - accuracy: 0.9744"
     ]
    }
   ],
   "source": [
    "NUM_CLASSES = 2\n",
    "model = Sequential()\n",
    "model.add(keras.applications.ResNet50(include_top=False, pooling='avg', weights=\"imagenet\"))\n",
    "model.add(Dense(NUM_CLASSES, activation='softmax'))\n",
    "# ResNet-50 model is already trained, should not be trained\n",
    "model.layers[0].trainable = False #False 不会去训练预训练好的网络，True的话会再去训练的\n",
    "model.summary()\n",
    "learning_rate = 0.001\n",
    "model.compile(optimizer=tf.keras.optimizers.RMSprop(lr=learning_rate), loss='categorical_crossentropy', metrics=['accuracy'])\n",
    "model.fit(X_train, y_train, batch_size=1024, epochs=10)\n",
    "tf.compat.v1.keras.experimental.export_saved_model(model, 'pb_models')\n",
    "print('export saved model.')"
   ]
  },
  {
   "cell_type": "code",
   "execution_count": null,
   "metadata": {
    "scrolled": true
   },
   "outputs": [],
   "source": [
    "import csv\n",
    "results = []\n",
    "res = model.predict(test_data)\n",
    "for item in res:\n",
    "    results.append(np.argmax(item))\n",
    "ids = np.asarray(ids).astype(np.int32)\n",
    "results = np.asarray(results).astype(np.int32)\n",
    "final = np.stack((ids, results), axis=-1)\n",
    "final = final[final[:, 0].argsort()]\n",
    "with open(\"./sample_submission.csv\", 'w') as f:\n",
    "    spamwriter = csv.writer(f)\n",
    "    spamwriter.writerow(['id', 'label'])\n",
    "    for i in range(0, test_data.shape[0]):\n",
    "        spamwriter.writerow([final[i][0], final[i][1]])"
   ]
  }
 ],
 "metadata": {
  "kernelspec": {
   "display_name": "Python 3",
   "language": "python",
   "name": "python3"
  },
  "language_info": {
   "codemirror_mode": {
    "name": "ipython",
    "version": 3
   },
   "file_extension": ".py",
   "mimetype": "text/x-python",
   "name": "python",
   "nbconvert_exporter": "python",
   "pygments_lexer": "ipython3",
   "version": "3.6.8"
  }
 },
 "nbformat": 4,
 "nbformat_minor": 2
}
